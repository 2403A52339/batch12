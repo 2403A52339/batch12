{
  "nbformat": 4,
  "nbformat_minor": 0,
  "metadata": {
    "colab": {
      "provenance": [],
      "authorship_tag": "ABX9TyO1wJeMP4tO4UtJLiIQFX8w",
      "include_colab_link": true
    },
    "kernelspec": {
      "name": "python3",
      "display_name": "Python 3"
    },
    "language_info": {
      "name": "python"
    }
  },
  "cells": [
    {
      "cell_type": "markdown",
      "metadata": {
        "id": "view-in-github",
        "colab_type": "text"
      },
      "source": [
        "<a href=\"https://colab.research.google.com/github/2403A52339/batch12/blob/main/Untitled2.ipynb\" target=\"_parent\"><img src=\"https://colab.research.google.com/assets/colab-badge.svg\" alt=\"Open In Colab\"/></a>"
      ]
    },
    {
      "cell_type": "code",
      "execution_count": 1,
      "metadata": {
        "colab": {
          "base_uri": "https://localhost:8080/"
        },
        "id": "ZVHhraP-8q9A",
        "outputId": "75bed777-3694-40dd-c496-b0adf834fd25"
      },
      "outputs": [
        {
          "output_type": "stream",
          "name": "stdout",
          "text": [
            "List:\n",
            "[10, 20, 30, 40, 50]\n",
            "\n",
            "NumPy Array:\n",
            "[10 20 30 40 50]\n",
            "\n",
            "Pandas DataFrame:\n",
            "   Numbers\n",
            "0       10\n",
            "1       20\n",
            "2       30\n",
            "3       40\n",
            "4       50\n"
          ]
        }
      ],
      "source": [
        "import numpy as np\n",
        "import pandas as pd\n",
        "\n",
        "my_list = [10, 20, 30, 40, 50]\n",
        "print(\"List:\")\n",
        "print(my_list)\n",
        "\n",
        "my_array = np.array(my_list)\n",
        "print(\"\\nNumPy Array:\")\n",
        "print(my_array)\n",
        "\n",
        "my_dataframe = pd.DataFrame(my_list, columns=['Numbers'])\n",
        "print(\"\\nPandas DataFrame:\")\n",
        "print(my_dataframe)\n"
      ]
    }
  ]
}