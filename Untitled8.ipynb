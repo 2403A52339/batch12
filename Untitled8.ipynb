{
  "nbformat": 4,
  "nbformat_minor": 0,
  "metadata": {
    "colab": {
      "provenance": [],
      "authorship_tag": "ABX9TyPp+yadSgQDLG8uAu3vH9gH",
      "include_colab_link": true
    },
    "kernelspec": {
      "name": "python3",
      "display_name": "Python 3"
    },
    "language_info": {
      "name": "python"
    }
  },
  "cells": [
    {
      "cell_type": "markdown",
      "metadata": {
        "id": "view-in-github",
        "colab_type": "text"
      },
      "source": [
        "<a href=\"https://colab.research.google.com/github/2403A52339/batch12/blob/main/Untitled8.ipynb\" target=\"_parent\"><img src=\"https://colab.research.google.com/assets/colab-badge.svg\" alt=\"Open In Colab\"/></a>"
      ]
    },
    {
      "cell_type": "code",
      "execution_count": 6,
      "metadata": {
        "colab": {
          "base_uri": "https://localhost:8080/"
        },
        "id": "A-TDDYG8AJmV",
        "outputId": "a4b537c6-d676-41a9-af43-25383b8a4131"
      },
      "outputs": [
        {
          "output_type": "stream",
          "name": "stdout",
          "text": [
            "      Name  age     city\n",
            "0    alice   15  newyork\n",
            "1      Bob   16   london\n",
            "2  charlie   17    paris\n"
          ]
        }
      ],
      "source": [
        "import pandas as pd\n",
        "data={'Name':['alice','Bob','charlie'],\n",
        "'age':[15,16,17],\n",
        "'city':['newyork','london','paris']}\n",
        "df=pd.DataFrame(data)\n",
        "print(df)\n",
        "df.to_csv('input.csv')"
      ]
    },
    {
      "cell_type": "code",
      "source": [
        "import pandas as pd\n",
        "data1={'Name':['alice','sahi','akhi','sanju','ashu','satti','Bhavani','Swathika','bhavya','bhavitha'],\n",
        "'age':[15,12,13,14,17,18,19,20,21,22],\n",
        "'city':['paris','asarelli','ankisa','sironcha','nagpur','chennur','telangana','andhra','palakurthy','suryapet']}\n",
        "df1=pd.DataFrame(data1)\n",
        "print(df1)\n",
        "df1.to_csv('input.csv')"
      ],
      "metadata": {
        "colab": {
          "base_uri": "https://localhost:8080/"
        },
        "id": "WfZsZM2aF4ob",
        "outputId": "78165d34-37b2-4821-8a79-7a8390818e88"
      },
      "execution_count": 15,
      "outputs": [
        {
          "output_type": "stream",
          "name": "stdout",
          "text": [
            "       Name  age        city\n",
            "0     alice   15       paris\n",
            "1      sahi   12    asarelli\n",
            "2      akhi   13      ankisa\n",
            "3     sanju   14    sironcha\n",
            "4      ashu   17      nagpur\n",
            "5     satti   18     chennur\n",
            "6   Bhavani   19   telangana\n",
            "7  Swathika   20      andhra\n",
            "8    bhavya   21  palakurthy\n",
            "9  bhavitha   22    suryapet\n"
          ]
        }
      ]
    },
    {
      "cell_type": "code",
      "source": [
        "merge_df=pd.concat([df,df1])\n",
        "print(merge_df)"
      ],
      "metadata": {
        "colab": {
          "base_uri": "https://localhost:8080/"
        },
        "id": "T-oh7cgyGCIi",
        "outputId": "cde7c3d9-936c-4910-c28d-d57187c8d49f"
      },
      "execution_count": 16,
      "outputs": [
        {
          "output_type": "stream",
          "name": "stdout",
          "text": [
            "       Name  age        city\n",
            "0     alice   15       paris\n",
            "1      sahi   12    asarelli\n",
            "2      akhi   13      ankisa\n",
            "3     sanju   14    sironcha\n",
            "4      ashu   17      nagpur\n",
            "5     satti   18     chennur\n",
            "6   Bhavani   19   telangana\n",
            "7  Swathika   20      andhra\n",
            "8    bhavya   21  palakurthy\n",
            "9  bhavitha   22    suryapet\n",
            "0     alice   15       paris\n",
            "1      sahi   12    asarelli\n",
            "2      akhi   13      ankisa\n",
            "3     sanju   14    sironcha\n",
            "4      ashu   17      nagpur\n",
            "5     satti   18     chennur\n",
            "6   Bhavani   19   telangana\n",
            "7  Swathika   20      andhra\n",
            "8    bhavya   21  palakurthy\n",
            "9  bhavitha   22    suryapet\n"
          ]
        }
      ]
    },
    {
      "cell_type": "code",
      "source": [
        "df.info()"
      ],
      "metadata": {
        "colab": {
          "base_uri": "https://localhost:8080/"
        },
        "id": "B6CvlWBtGKlF",
        "outputId": "4757453b-abee-45dc-e54e-b9502d2b5ad8"
      },
      "execution_count": 17,
      "outputs": [
        {
          "output_type": "stream",
          "name": "stdout",
          "text": [
            "<class 'pandas.core.frame.DataFrame'>\n",
            "RangeIndex: 10 entries, 0 to 9\n",
            "Data columns (total 3 columns):\n",
            " #   Column  Non-Null Count  Dtype \n",
            "---  ------  --------------  ----- \n",
            " 0   Name    10 non-null     object\n",
            " 1   age     10 non-null     int64 \n",
            " 2   city    10 non-null     object\n",
            "dtypes: int64(1), object(2)\n",
            "memory usage: 372.0+ bytes\n"
          ]
        }
      ]
    },
    {
      "cell_type": "code",
      "source": [
        "merge_df.to_csv('file1.csv')"
      ],
      "metadata": {
        "id": "RJJWR36ONvRc"
      },
      "execution_count": 18,
      "outputs": []
    },
    {
      "cell_type": "code",
      "source": [
        "df_filled_dict=merge"
      ],
      "metadata": {
        "id": "M2Wz2R4AQ6qI"
      },
      "execution_count": null,
      "outputs": []
    }
  ]
}